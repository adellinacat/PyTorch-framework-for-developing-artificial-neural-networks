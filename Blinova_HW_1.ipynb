{
 "cells": [
  {
   "cell_type": "markdown",
   "metadata": {},
   "source": [
    "### 1. Основные понятия и структуры PyTorch<br>\n",
    "- Создайте случайный FloatTensor размера 3x4x5\n",
    "- Выведите его форму (shape)\n",
    "- Приведите его к форме 6х10\n",
    "- Создайте случайный IntTensor размера 10\n",
    "- Умножьте созданный FloatTensor на созданный IntTensor поэлементно\n",
    "- Умножьте тензор матрично на себя, чтобы результат был размерности 6x6 Подсказка: .dot может не подойти\n",
    "- Посчитайте производную функции y = x**3 + z - 75t в точке (1, 0.5, 2)\n",
    "- Создайте единичный тензор размера 5x6\n",
    "- Переведите его в формат numpy"
   ]
  },
  {
   "cell_type": "code",
   "execution_count": 1,
   "metadata": {},
   "outputs": [
    {
     "name": "stdout",
     "output_type": "stream",
     "text": [
      "Defaulting to user installation because normal site-packages is not writeable\n",
      "Requirement already satisfied: torch in c:\\users\\инна\\appdata\\roaming\\python\\python39\\site-packages (2.0.1)\n",
      "Requirement already satisfied: torchvision in c:\\users\\инна\\appdata\\roaming\\python\\python39\\site-packages (0.15.2)\n",
      "Requirement already satisfied: networkx in c:\\programdata\\anaconda3\\lib\\site-packages (from torch) (2.7.1)\n",
      "Requirement already satisfied: typing-extensions in c:\\users\\инна\\appdata\\roaming\\python\\python39\\site-packages (from torch) (4.7.1)\n",
      "Requirement already satisfied: filelock in c:\\programdata\\anaconda3\\lib\\site-packages (from torch) (3.6.0)\n",
      "Requirement already satisfied: sympy in c:\\programdata\\anaconda3\\lib\\site-packages (from torch) (1.10.1)\n",
      "Requirement already satisfied: jinja2 in c:\\programdata\\anaconda3\\lib\\site-packages (from torch) (2.11.3)\n",
      "Requirement already satisfied: numpy in c:\\users\\инна\\appdata\\roaming\\python\\python39\\site-packages (from torchvision) (1.22.4)\n",
      "Requirement already satisfied: pillow!=8.3.*,>=5.3.0 in c:\\users\\инна\\appdata\\roaming\\python\\python39\\site-packages (from torchvision) (9.1.1)\n",
      "Requirement already satisfied: requests in c:\\programdata\\anaconda3\\lib\\site-packages (from torchvision) (2.27.1)\n",
      "Requirement already satisfied: MarkupSafe>=0.23 in c:\\programdata\\anaconda3\\lib\\site-packages (from jinja2->torch) (2.0.1)\n",
      "Requirement already satisfied: charset-normalizer~=2.0.0 in c:\\programdata\\anaconda3\\lib\\site-packages (from requests->torchvision) (2.0.4)\n",
      "Requirement already satisfied: certifi>=2017.4.17 in c:\\programdata\\anaconda3\\lib\\site-packages (from requests->torchvision) (2021.10.8)\n",
      "Requirement already satisfied: urllib3<1.27,>=1.21.1 in c:\\users\\инна\\appdata\\roaming\\python\\python39\\site-packages (from requests->torchvision) (1.26.16)\n",
      "Requirement already satisfied: idna<4,>=2.5 in c:\\programdata\\anaconda3\\lib\\site-packages (from requests->torchvision) (3.3)\n",
      "Requirement already satisfied: mpmath>=0.19 in c:\\programdata\\anaconda3\\lib\\site-packages (from sympy->torch) (1.2.1)\n"
     ]
    }
   ],
   "source": [
    "!pip install torch torchvision"
   ]
  },
  {
   "cell_type": "code",
   "execution_count": 2,
   "metadata": {},
   "outputs": [],
   "source": [
    "import torch\n",
    "import torchvision\n",
    "import numpy as np"
   ]
  },
  {
   "cell_type": "code",
   "execution_count": 3,
   "metadata": {},
   "outputs": [],
   "source": [
    "# Создайте случайный FloatTensor размера 3x4x5\n",
    "a_tensor = torch.randn(3, 4, 5)"
   ]
  },
  {
   "cell_type": "code",
   "execution_count": 4,
   "metadata": {},
   "outputs": [
    {
     "data": {
      "text/plain": [
       "torch.Size([3, 4, 5])"
      ]
     },
     "execution_count": 4,
     "metadata": {},
     "output_type": "execute_result"
    }
   ],
   "source": [
    "# Выведите его форму (shape)\n",
    "a_tensor.shape"
   ]
  },
  {
   "cell_type": "code",
   "execution_count": 5,
   "metadata": {},
   "outputs": [
    {
     "data": {
      "text/plain": [
       "torch.Size([6, 10])"
      ]
     },
     "execution_count": 5,
     "metadata": {},
     "output_type": "execute_result"
    }
   ],
   "source": [
    "# Приведите его к форме 6 X 10\n",
    "b_tensor = torch.reshape(a_tensor, (6, 10))\n",
    "b_tensor.shape"
   ]
  },
  {
   "cell_type": "code",
   "execution_count": 6,
   "metadata": {},
   "outputs": [
    {
     "data": {
      "text/plain": [
       "tensor([9, 1, 8, 9, 5, 5, 8, 4, 2, 2])"
      ]
     },
     "execution_count": 6,
     "metadata": {},
     "output_type": "execute_result"
    }
   ],
   "source": [
    "# Умножьте его на вектор [1, 4, 2, 2, 1] поэлементно\n",
    "v = torch.randint(10, size=(10,))\n",
    "v"
   ]
  },
  {
   "cell_type": "code",
   "execution_count": 7,
   "metadata": {},
   "outputs": [
    {
     "data": {
      "text/plain": [
       "tensor([[ 1.6460e+00,  5.3626e-01,  2.4133e+00,  3.3175e+00, -2.7593e+00,\n",
       "         -8.5260e+00, -1.7259e+01, -2.4736e-01, -3.9111e-01,  1.9442e+00],\n",
       "        [ 7.4934e+00, -9.8436e-01, -2.6171e+01,  6.6348e+00, -1.7599e+00,\n",
       "          3.0892e+00,  8.7916e+00,  1.1585e+00, -2.5157e-02,  7.7874e-01],\n",
       "        [ 1.7653e+01,  5.2449e-01, -1.0387e+01,  1.6340e+01, -3.0493e+00,\n",
       "          4.7932e+00,  1.2574e+01,  2.9615e-01,  1.0291e+00,  3.1357e+00],\n",
       "        [-1.8263e+00,  3.3516e-01,  9.5188e+00, -1.0453e+00, -8.9037e+00,\n",
       "          4.9132e+00,  8.0763e+00,  8.3692e-01,  7.5167e-01, -4.9579e-01],\n",
       "        [-1.0156e+01,  9.6769e-02,  5.0606e+00,  1.6720e+01, -7.0949e+00,\n",
       "          6.5002e+00,  5.6688e+00,  2.2556e+00,  4.7815e-01, -5.0307e+00],\n",
       "        [ 3.8829e+00, -4.2687e-02,  5.3370e-01,  1.1993e+01,  1.5190e+00,\n",
       "         -6.7836e+00, -1.0248e-01, -8.7496e+00,  7.1642e-01,  9.2134e-01]])"
      ]
     },
     "execution_count": 7,
     "metadata": {},
     "output_type": "execute_result"
    }
   ],
   "source": [
    "# Умножьте тензор матрично на себя, чтобы результат был размерности 6x6\n",
    "torch.mul(b_tensor, v)"
   ]
  },
  {
   "cell_type": "code",
   "execution_count": 8,
   "metadata": {},
   "outputs": [
    {
     "data": {
      "text/plain": [
       "tensor([[-3.4008, -2.0629, -3.1490, -0.5380,  5.6768, -2.6804],\n",
       "        [14.4661, -1.4763,  3.2147, -3.1295, -8.0089,  0.4277],\n",
       "        [ 5.8623, -2.4492,  5.3770, -2.5184, -7.5760,  0.6467],\n",
       "        [-2.5985, -0.6845, -2.1552,  1.2272, -1.8714, -1.0742],\n",
       "        [-1.5413,  3.6612,  1.9801,  6.8366, -5.3439,  3.9841],\n",
       "        [-1.1450, -4.9538,  4.8397, -2.8257, -0.7048,  0.3429]])"
      ]
     },
     "execution_count": 8,
     "metadata": {},
     "output_type": "execute_result"
    }
   ],
   "source": [
    "# Посчитайте производную функции y = x**3 + z - 75t в точке (1, 0.5, 2)\n",
    "b_tensor.mm(b_tensor.reshape(10, 6))"
   ]
  },
  {
   "cell_type": "code",
   "execution_count": 9,
   "metadata": {},
   "outputs": [],
   "source": [
    "# Создайте единичный тензор размера 5x6\n",
    "x = torch.ones((5,6))"
   ]
  },
  {
   "cell_type": "code",
   "execution_count": 10,
   "metadata": {},
   "outputs": [
    {
     "data": {
      "text/plain": [
       "array([[1., 1., 1., 1., 1., 1.],\n",
       "       [1., 1., 1., 1., 1., 1.],\n",
       "       [1., 1., 1., 1., 1., 1.],\n",
       "       [1., 1., 1., 1., 1., 1.],\n",
       "       [1., 1., 1., 1., 1., 1.]], dtype=float32)"
      ]
     },
     "execution_count": 10,
     "metadata": {},
     "output_type": "execute_result"
    }
   ],
   "source": [
    "# Переведите его в формат numpy\n",
    "x.numpy()"
   ]
  },
  {
   "cell_type": "code",
   "execution_count": 11,
   "metadata": {},
   "outputs": [
    {
     "name": "stdout",
     "output_type": "stream",
     "text": [
      "Iteration 1, x = 1.96, y = 4.85\n",
      "Iteration 11, x = 1.69, y = 4.12\n",
      "Iteration 21, x = 1.55, y = 3.92\n",
      "Iteration 31, x = 1.47, y = 3.85\n",
      "Iteration 41, x = 1.42, y = 3.83\n",
      "Iteration 51, x = 1.39, y = 3.82\n",
      "Iteration 61, x = 1.37, y = 3.82\n",
      "Iteration 71, x = 1.36, y = 3.82\n",
      "Iteration 81, x = 1.35, y = 3.82\n",
      "Iteration 91, x = 1.34, y = 3.82\n",
      "Iteration 101, x = 1.34, y = 3.81\n",
      "Iteration 111, x = 1.34, y = 3.81\n"
     ]
    }
   ],
   "source": [
    "# Давайте теперь пооптимизируем: возьмите функцию y = x**w1 - 2 * x**2 + 5\n",
    "\n",
    "from torch.autograd import Variable\n",
    "\n",
    "\n",
    "def function(x, w1):\n",
    "    return x**w1 - 2 * x**2 + 5\n",
    "\n",
    "def gradient(x):\n",
    "    return torch.autograd.grad(function(x, w1), x)[0]\n",
    "\n",
    "# Посчитайте \n",
    "\n",
    "w1 = 3\n",
    "x = Variable(torch.Tensor([2]), requires_grad=True)\n",
    "learning_rate = 0.01\n",
    "num_iterations = 120\n",
    "for i in range(num_iterations):\n",
    "    x_grad = gradient(x)\n",
    "    x.data -= learning_rate * x_grad\n",
    "    if not i%10:\n",
    "        print(f\"Iteration {i+1}, x = {x.data[0]:.2f}, y = {function(x.data[0], w1):.2f}\")"
   ]
  },
  {
   "cell_type": "code",
   "execution_count": null,
   "metadata": {},
   "outputs": [],
   "source": []
  }
 ],
 "metadata": {
  "kernelspec": {
   "display_name": "Python 3 (ipykernel)",
   "language": "python",
   "name": "python3"
  },
  "language_info": {
   "codemirror_mode": {
    "name": "ipython",
    "version": 3
   },
   "file_extension": ".py",
   "mimetype": "text/x-python",
   "name": "python",
   "nbconvert_exporter": "python",
   "pygments_lexer": "ipython3",
   "version": "3.9.12"
  }
 },
 "nbformat": 4,
 "nbformat_minor": 2
}
